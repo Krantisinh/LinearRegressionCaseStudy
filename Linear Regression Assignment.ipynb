{
 "cells": [
  {
   "cell_type": "markdown",
   "id": "540a084b-d325-480b-9b81-a0f45268e24d",
   "metadata": {},
   "source": [
    "# Problem Statement"
   ]
  },
  {
   "cell_type": "markdown",
   "id": "dea8e356-a5bc-4662-859d-8fa58b7bfb4c",
   "metadata": {
    "jp-MarkdownHeadingCollapsed": true
   },
   "source": [
    "## Context\n",
    "BoomBikes, a US bike-sharing provider, aims to predict the demand for shared bikes post-Covid to boost revenue post-pandemic.\n",
    "They have gathered a dataset on daily bike demands in the American market to understand the factors influencing bike demand.\n",
    "\n",
    "## Goal\n",
    "Model the bike demand using independent variables to adjust business strategies and meet customer expectations."
   ]
  },
  {
   "cell_type": "markdown",
   "id": "beafb2a0-d143-4801-8d66-7deb6d893c2f",
   "metadata": {},
   "source": [
    "# Approach"
   ]
  },
  {
   "cell_type": "markdown",
   "id": "69057847-cb01-4b4d-a28c-a82700a96faf",
   "metadata": {},
   "source": [
    "Check if linear regression can be applied to model the `cnt` variable\n",
    "\n",
    "**Approach for linear regression** -\n",
    "1. **Data Preparation**\n",
    "   - Collect and clean data: Handle missing values, duplicates, and outliers.\n",
    "2. **Explore the data**\n",
    "   - Visualize relationships between predictors and target variables using scatter plots, pair plots or correlation matrices\n",
    "   - Perform Univariate, Bivariate and Multivariate analysis\n",
    "3. **Build the model**\n",
    "   - Feature selection: Choose relevant predictors. Transform features if necessary (e.g., scaling).\n",
    "   - Split data: Divide the dataset into training and testing sets (e.g., 70%-30%).\n",
    "   - Check assumptions:\n",
    "     - Linearity between predictors and the target.\n",
    "     - No multicollinearity among predictors.\n",
    "   - Fit the model\n",
    "   - Check coefficients\n",
    "4. **Evaluate the model**\n",
    "   - Performance metrics: Use metrics like:\n",
    "       - R²: Measures variance explained by the model.\n",
    "       - Adjusted R²: Adjusts R² for the number of predictors.\n",
    "       - Mean Squared Error (MSE) or Root Mean Squared Error (RMSE).\n",
    "   - Residual analysis:\n",
    "       - Check residual plots for patterns.\n",
    "       - Ensure residuals have constant variance and are normally distributed.\n",
    "5. **Refine the Model**\n",
    "   - Remove insignificant predictors: Simplify the model by dropping non-contributory features.\n",
    "   - Check for overfitting: Ensure the model generalizes well to the test data."
   ]
  },
  {
   "cell_type": "markdown",
   "id": "d8d6f8c5-ec57-4a87-bb1d-c6a2a0e61dcf",
   "metadata": {},
   "source": [
    "# Solution"
   ]
  },
  {
   "cell_type": "markdown",
   "id": "41c2c2f0-ee3c-4f8b-80a4-2b29dc06535e",
   "metadata": {},
   "source": [
    "## Import Libraries"
   ]
  },
  {
   "cell_type": "code",
   "execution_count": null,
   "id": "833bd6d7-6967-43bc-88ac-e192942b57d1",
   "metadata": {},
   "outputs": [],
   "source": [
    "import numpy as np, pandas as pd, seaborn as sns, matplotlib.pyplot as plt"
   ]
  },
  {
   "cell_type": "code",
   "execution_count": null,
   "id": "037924e5-3738-4abf-b8d7-2144b7d311be",
   "metadata": {},
   "outputs": [],
   "source": [
    "import statsmodels\n",
    "import statsmodels.api as sm\n",
    "import sklearn\n",
    "from sklearn.model_selection import train_test_split\n",
    "from sklearn.metrics import r2_score\n",
    "from sklearn.preprocessing import MinMaxScaler\n",
    "from statsmodels.stats.outliers_influence import variance_inflation_factor"
   ]
  },
  {
   "cell_type": "markdown",
   "id": "2673e25c-478a-40c8-ad66-6bae303da15b",
   "metadata": {},
   "source": [
    "## Load Data"
   ]
  },
  {
   "cell_type": "code",
   "execution_count": null,
   "id": "259fd5fa-a4f3-4198-8f97-8cb3acb912ef",
   "metadata": {},
   "outputs": [],
   "source": [
    "df = pd.read_csv('day.csv')\n",
    "df.head()"
   ]
  },
  {
   "cell_type": "markdown",
   "id": "ffa2ce7f-401a-4b44-8182-0b827c561caf",
   "metadata": {},
   "source": [
    "## Data Preparation"
   ]
  },
  {
   "cell_type": "markdown",
   "id": "1c5115e1-21b1-4d0c-9627-f0d874d39d57",
   "metadata": {
    "jp-MarkdownHeadingCollapsed": true
   },
   "source": [
    "**Actions:**\n",
    "\n",
    "1. `casual` and `registered` have a very strong positive correlation with cnt since cnt is their sum. Hence these should be removed.\n",
    "2. Remove `dteday` because it does not help the cause\n",
    "3. Map `yr` values to `0: 2018` and 1: 2019`\n",
    "4. Convert `weathersit` and `season` into categorical variables\n",
    "\n",
    "`weathersit`:\n",
    "1: Clear\n",
    "2: Mist\n",
    "3: LightRain\n",
    "4: HeavyRain\n",
    "\n",
    "`season`:\n",
    "1:spring, 2:summer, 3:fall, 4:winter"
   ]
  },
  {
   "cell_type": "markdown",
   "id": "12913535-cd06-48a0-9cb1-6da95296fb4e",
   "metadata": {},
   "source": [
    "### Check for missing values"
   ]
  },
  {
   "cell_type": "code",
   "execution_count": null,
   "id": "1e0dd641-aaa7-4e7e-881b-479d14434de8",
   "metadata": {},
   "outputs": [],
   "source": [
    "print(df.isnull().sum())"
   ]
  },
  {
   "cell_type": "markdown",
   "id": "2f4ac73e-44ba-4a12-8ccd-3fefa6e23a48",
   "metadata": {},
   "source": [
    "### Map `yr` values to `0: 2018` and `1: 2019`"
   ]
  },
  {
   "cell_type": "code",
   "execution_count": null,
   "id": "cee40c7a-84c0-4a5d-9c73-4503c04cee64",
   "metadata": {},
   "outputs": [],
   "source": [
    "df.yr.value_counts()"
   ]
  },
  {
   "cell_type": "code",
   "execution_count": null,
   "id": "c1c379eb-0566-4725-aa4f-d3cf55368bce",
   "metadata": {},
   "outputs": [],
   "source": [
    "mapping_yr = {0: 2018, 1: 2019}\n",
    "df.yr = df.yr.map(mapping_yr)"
   ]
  },
  {
   "cell_type": "code",
   "execution_count": null,
   "id": "adfa44c6-8a61-4f8d-af42-9addb098f6a7",
   "metadata": {},
   "outputs": [],
   "source": [
    "df.yr.value_counts()"
   ]
  },
  {
   "cell_type": "markdown",
   "id": "1df81e42-6ddc-485a-8590-f34bd8881469",
   "metadata": {},
   "source": [
    "### Convert `weathersit` and `season` into categorical variables"
   ]
  },
  {
   "cell_type": "code",
   "execution_count": null,
   "id": "05962b46-a878-49a6-8fbb-d6e7a53ec0d9",
   "metadata": {},
   "outputs": [],
   "source": [
    "print(df.weathersit.value_counts())\n",
    "print(df.season.value_counts())"
   ]
  },
  {
   "cell_type": "code",
   "execution_count": null,
   "id": "acfaa743-1e38-411e-bfc2-ea071a5ec493",
   "metadata": {},
   "outputs": [],
   "source": [
    "mapping_weathersit = {1: 'Clear', 2: 'Mist', 3: 'LightRain', 4: 'HeavyRain'}\n",
    "mapping_season = {1: 'Spring', 2: 'Summer', 3: 'Fall', 4: 'Winter'}\n",
    "\n",
    "df.weathersit = df.weathersit.map(mapping_weathersit)\n",
    "df.season = df.season.map(mapping_season)"
   ]
  },
  {
   "cell_type": "code",
   "execution_count": null,
   "id": "db981bc1-005a-4891-ae24-5ba1a9c7df6e",
   "metadata": {},
   "outputs": [],
   "source": [
    "df.weathersit.value_counts()"
   ]
  },
  {
   "cell_type": "code",
   "execution_count": null,
   "id": "f440379c-0f11-4b8f-ba50-e864789cc55f",
   "metadata": {},
   "outputs": [],
   "source": [
    "df.season.value_counts()"
   ]
  },
  {
   "cell_type": "markdown",
   "id": "fdfeda0b-d9f2-4070-b343-ba25e3cd8039",
   "metadata": {},
   "source": [
    "### Remove `instant`, `dteday`, `casual` and `registered` because they do not help the cause"
   ]
  },
  {
   "cell_type": "markdown",
   "id": "005d6e26-6726-4ce8-ab50-74afe58ccb24",
   "metadata": {},
   "source": [
    "`casual + registered = cnt` Hence there's a high collinearity between casual, registered and cnt. So, casual & registered can be removed. "
   ]
  },
  {
   "cell_type": "code",
   "execution_count": null,
   "id": "12174d0d-2a96-4a5a-8992-f670cf68d455",
   "metadata": {},
   "outputs": [],
   "source": [
    "df = df.drop(['dteday', 'casual', 'registered', 'instant'], axis=1)"
   ]
  },
  {
   "cell_type": "code",
   "execution_count": null,
   "id": "7b1d8ad8-d237-48cb-9380-703b03492cb2",
   "metadata": {},
   "outputs": [],
   "source": [
    "df.head()"
   ]
  },
  {
   "cell_type": "markdown",
   "id": "9848a04d-f7a7-4da2-aa91-e6afcfe28d65",
   "metadata": {
    "jp-MarkdownHeadingCollapsed": true
   },
   "source": [
    "## Exploratory Data Analysis"
   ]
  },
  {
   "cell_type": "markdown",
   "id": "5c2c5801-1d00-48dc-8ecd-3140adb2d412",
   "metadata": {
    "jp-MarkdownHeadingCollapsed": true
   },
   "source": [
    "### Univariate Analysis"
   ]
  },
  {
   "cell_type": "code",
   "execution_count": null,
   "id": "abdf1ad9-3035-4f2e-86da-7bcf6978d84b",
   "metadata": {},
   "outputs": [],
   "source": [
    "df.info()"
   ]
  },
  {
   "cell_type": "code",
   "execution_count": null,
   "id": "f726962e-fcd0-4188-a7b3-839f328a68c2",
   "metadata": {},
   "outputs": [],
   "source": [
    "plt.figure(figsize=(15, 15))\n",
    "plt.subplot(3, 3, 1)\n",
    "sns.histplot(df.cnt, kde=True)\n",
    "plt.title('Distribution of Total Bike Rentals (cnt)')\n",
    "\n",
    "plt.subplot(3, 3, 2)\n",
    "sns.histplot(df.mnth, kde=True, color='salmon', edgecolor='black')\n",
    "plt.title('Distribution of Month')\n",
    "\n",
    "plt.subplot(3, 3, 3)\n",
    "sns.histplot(df.weathersit, kde=True, color='lightgreen', edgecolor='black')\n",
    "plt.title('Distribution of Weather')\n",
    "\n",
    "plt.subplot(3, 3, 4)\n",
    "sns.histplot(df.season, kde=True, color=\"skyblue\", edgecolor=\"black\")\n",
    "plt.title('Distribution of season')\n",
    "\n",
    "plt.subplot(3, 3, 5)\n",
    "sns.boxplot(df.temp, color=\"orange\")\n",
    "plt.title('Distribution of Temperature')\n",
    "\n",
    "plt.subplot(3, 3, 6)\n",
    "sns.boxplot(df.hum, color=\"magenta\")\n",
    "plt.title('Distribution of Humidity')\n",
    "\n",
    "plt.subplot(3, 3, 7)\n",
    "sns.boxplot(df.windspeed, color=\"aqua\")\n",
    "plt.title('Distribution of Windspeed')\n",
    "\n",
    "plt.tight_layout()\n",
    "plt.show()"
   ]
  },
  {
   "cell_type": "markdown",
   "id": "5b26e69b-6fcc-40c0-9275-55da00834d0a",
   "metadata": {},
   "source": [
    "**Insights**:\n",
    "> 1. The distribution of cnt is slightly right skewed, it indicates that a few days have significantly higher rentals compared to others\n",
    "> 2. The most frequently occurring weather is clear and mist\n",
    "> 3. Median temp is 20 while that for the humidity is 60 and for windspeed is 12. Such weather conditions seem to be favourable for the season."
   ]
  },
  {
   "cell_type": "markdown",
   "id": "2d6bd9fe-f504-4d32-a9d8-32ffb64b5fa6",
   "metadata": {},
   "source": [
    "### Bivariate analysis"
   ]
  },
  {
   "cell_type": "code",
   "execution_count": null,
   "id": "0f5d960f-183a-42e7-8639-5996ee92e000",
   "metadata": {},
   "outputs": [],
   "source": [
    "sns.pairplot(data=df)"
   ]
  },
  {
   "cell_type": "markdown",
   "id": "3223cc5a-75dc-471a-9e3d-374e85c72a0a",
   "metadata": {},
   "source": [
    "**Insights**\n",
    "> From this analysis, it seems that\n",
    "> 1. The target variable `cnt` has a good linear relationship with `temp` and `atemp`.\n",
    "> 2. The count of bike sharings has significantly increased in the year 2019.\n",
    "> 3. The number of bike sharings is higher in the months from April to October.\n",
    "> 4. The factors humidity (`hum`) and `windspeed` do not have linear correlation with the `cnt`"
   ]
  },
  {
   "cell_type": "markdown",
   "id": "81e5236c-8cd9-445d-a8be-f0c10d7bb2da",
   "metadata": {},
   "source": [
    "#### Visualizing Categorical Variables"
   ]
  },
  {
   "cell_type": "code",
   "execution_count": null,
   "id": "d9e9aac5-bd52-4677-809c-4712fb5b4154",
   "metadata": {},
   "outputs": [],
   "source": [
    "plt.figure(figsize=(20, 12))\n",
    "plt.subplot(3,3,1)\n",
    "sns.boxplot(x = 'yr', y = 'cnt', data = df)\n",
    "plt.subplot(3,3,2)\n",
    "sns.boxplot(x = 'mnth', y = 'cnt', data = df)\n",
    "plt.subplot(3,3,3)\n",
    "sns.boxplot(x = 'holiday', y = 'cnt', data = df)\n",
    "plt.subplot(3,3,4)\n",
    "sns.boxplot(x = 'weekday', y = 'cnt', data = df)\n",
    "plt.subplot(3,3,5)\n",
    "sns.boxplot(x = 'workingday', y = 'cnt', data = df)\n",
    "plt.subplot(3,3,6)\n",
    "sns.boxplot(x = 'season', y = 'cnt', data = df)\n",
    "plt.subplot(3,3,7)\n",
    "sns.boxplot(x = 'weathersit', y = 'cnt', data = df)\n",
    "plt.show()\n"
   ]
  },
  {
   "cell_type": "markdown",
   "id": "2a6ce68e-0879-4ce0-9add-8d16c8c7e3d4",
   "metadata": {},
   "source": [
    "**Insights**\n",
    "> From the above charts, `cnt` increases year over year, it is highest in the months of April to October, highest on non holidays, and high in Summer and fall, high in non rainy days."
   ]
  },
  {
   "cell_type": "markdown",
   "id": "94842225-4ccf-4be2-9cd3-2d4fe143047f",
   "metadata": {},
   "source": [
    "### Multivariate Analysis"
   ]
  },
  {
   "cell_type": "code",
   "execution_count": null,
   "id": "89435a83-e4f3-49c4-818e-02852bf3a4bf",
   "metadata": {},
   "outputs": [],
   "source": [
    "plt.figure(figsize = (16, 10))\n",
    "sns.heatmap(df[['yr', 'mnth', 'holiday', 'weekday', 'workingday', 'temp', 'atemp',\t'hum',\t'windspeed', 'cnt']].corr(), annot = True)\n",
    "plt.show()"
   ]
  },
  {
   "cell_type": "markdown",
   "id": "04637fd0-5551-46bd-88ff-e9131e7d99b2",
   "metadata": {},
   "source": [
    "**Insights**\n",
    "> From the above heatmap, `cnt` has a high correlation with `yr`, `temp` & `atemp`"
   ]
  },
  {
   "cell_type": "markdown",
   "id": "01182e41-cbc6-45c9-a167-78319b1d10dc",
   "metadata": {
    "jp-MarkdownHeadingCollapsed": true
   },
   "source": [
    "### Insights from EDA\n",
    "\n",
    "1. Distribution of Total Bike Rentals (cnt):\n",
    "The distribution is slightly right-skewed, indicating a higher frequency of lower rental counts.\n",
    "3. Bike Rentals by Season:\n",
    "Rentals vary significantly across seasons:\n",
    "Fall seems to have the highest median rental count.\n",
    "Spring has the lowest median rental count.\n",
    "4. Bike Rentals by Weather Situation:\n",
    "Rentals decrease as weather worsens:\n",
    "Clear or Partly Cloudy weather corresponds to the highest rental counts.\n",
    "Heavy Rain or Snow shows the lowest rental counts."
   ]
  },
  {
   "cell_type": "markdown",
   "id": "76d725ad-f2cb-48cc-bbb1-c7769357a678",
   "metadata": {},
   "source": [
    "## Build the model"
   ]
  },
  {
   "cell_type": "markdown",
   "id": "843dfb1c-ca4f-4cb0-866b-5c3a9da187da",
   "metadata": {},
   "source": [
    "### Dummy Variables"
   ]
  },
  {
   "cell_type": "markdown",
   "id": "0a43999d-ba46-4f6c-a2da-88edfc4fa1ae",
   "metadata": {},
   "source": [
    "We'll have to transform the categories of the categorical variables into dummy variables and concat them in the original dataset."
   ]
  },
  {
   "cell_type": "code",
   "execution_count": null,
   "id": "57ac4127-d05d-45cc-8fbe-866651024000",
   "metadata": {},
   "outputs": [],
   "source": [
    "df.info(verbose=True)"
   ]
  },
  {
   "cell_type": "code",
   "execution_count": null,
   "id": "966db790-7a91-4f9b-8649-87d87f0c65f8",
   "metadata": {},
   "outputs": [],
   "source": [
    "season = pd.get_dummies(df['season'], dtype='int', drop_first=True)\n",
    "weathersit = pd.get_dummies(df['weathersit'], dtype='int', drop_first=True)"
   ]
  },
  {
   "cell_type": "code",
   "execution_count": null,
   "id": "7669eadb-cdb9-4d8e-ba4c-761d59f761fc",
   "metadata": {},
   "outputs": [],
   "source": [
    "season"
   ]
  },
  {
   "cell_type": "code",
   "execution_count": null,
   "id": "4e2d4b2a-0237-4701-83c4-5130e98e6d64",
   "metadata": {},
   "outputs": [],
   "source": [
    "df.weathersit.value_counts()"
   ]
  },
  {
   "cell_type": "code",
   "execution_count": null,
   "id": "42544e86-e9f0-4b1e-ada7-13f699c17eb3",
   "metadata": {},
   "outputs": [],
   "source": [
    "df = pd.concat([df, season, weathersit], axis = 1)"
   ]
  },
  {
   "cell_type": "code",
   "execution_count": null,
   "id": "f5c26aa0-e4d1-4083-a4d9-d3f0362c6fc2",
   "metadata": {},
   "outputs": [],
   "source": [
    "df.head()"
   ]
  },
  {
   "cell_type": "code",
   "execution_count": null,
   "id": "54f3ad6d-138e-41f1-8410-a217cbdd9b5b",
   "metadata": {},
   "outputs": [],
   "source": [
    "df = df.drop(columns=['season', 'weathersit'])\n",
    "df.head()"
   ]
  },
  {
   "cell_type": "markdown",
   "id": "ddd548bc-e74d-41de-9277-ec149976f409",
   "metadata": {},
   "source": [
    "### Feature Slection"
   ]
  },
  {
   "cell_type": "markdown",
   "id": "f7bfe222-7fc1-42e2-a708-69b3aecb6d7d",
   "metadata": {},
   "source": [
    "The target variable is `cnt`. Let's choose all the other variables as predictors to start with and remove predictors as and when required."
   ]
  },
  {
   "cell_type": "markdown",
   "id": "78966773-a42d-4493-b3aa-c7ebb4e18b94",
   "metadata": {},
   "source": [
    "### Split the data"
   ]
  },
  {
   "cell_type": "code",
   "execution_count": null,
   "id": "6b4af3d9-1f2c-40c1-a220-bccde75ac378",
   "metadata": {
    "scrolled": true
   },
   "outputs": [],
   "source": [
    "y = df.cnt"
   ]
  },
  {
   "cell_type": "code",
   "execution_count": null,
   "id": "8fd2b50d-16af-43c2-8520-cb96cbe05a2d",
   "metadata": {},
   "outputs": [],
   "source": [
    "df.shape"
   ]
  },
  {
   "cell_type": "code",
   "execution_count": null,
   "id": "59b8c3b5-99ad-4360-a985-16c549b474a3",
   "metadata": {},
   "outputs": [],
   "source": [
    "X = df"
   ]
  },
  {
   "cell_type": "code",
   "execution_count": null,
   "id": "53db108d-b02b-45c3-aeeb-c76e7ca90871",
   "metadata": {},
   "outputs": [],
   "source": [
    "X.pop('cnt')"
   ]
  },
  {
   "cell_type": "code",
   "execution_count": null,
   "id": "f3234749-c7a8-4b26-b446-a5b20affedc0",
   "metadata": {},
   "outputs": [],
   "source": [
    "X.head()"
   ]
  },
  {
   "cell_type": "code",
   "execution_count": null,
   "id": "76ba4273-d6b6-433a-9f13-a8ef17a86dd1",
   "metadata": {},
   "outputs": [],
   "source": [
    "X_train, X_test, y_train, y_test = train_test_split(X, y, train_size=0.7, test_size=0.3, random_state=100)"
   ]
  },
  {
   "cell_type": "code",
   "execution_count": null,
   "id": "e2048b1d-e7ce-4b83-bee8-d0504fd35233",
   "metadata": {},
   "outputs": [],
   "source": [
    "print(X_train.shape)\n",
    "print(X_test.shape)"
   ]
  },
  {
   "cell_type": "markdown",
   "id": "5632d0cf-ca4a-4794-b946-f5d2b4596976",
   "metadata": {},
   "source": [
    "### Scaling"
   ]
  },
  {
   "cell_type": "code",
   "execution_count": null,
   "id": "36a4e4d0-89bd-49fa-bea1-e9b889700513",
   "metadata": {},
   "outputs": [],
   "source": [
    "X_train.head()"
   ]
  },
  {
   "cell_type": "code",
   "execution_count": null,
   "id": "9be72bde-768d-45d4-ab58-375ce4f32e31",
   "metadata": {},
   "outputs": [],
   "source": [
    "scaler = MinMaxScaler()\n",
    "# Apply scaler() to all the columns except the 'yes-no' and 'dummy' variables\n",
    "\n",
    "num_vars = ['yr', 'mnth', 'holiday', 'weekday', 'workingday','temp', 'atemp', 'hum', 'windspeed', 'Spring', 'Summer', 'Winter', 'LightRain', 'Mist']\n",
    "\n",
    "X_train[num_vars] = scaler.fit_transform(X_train[num_vars])"
   ]
  },
  {
   "cell_type": "code",
   "execution_count": null,
   "id": "21ce90ff-af7e-4484-8edf-cb65b548bcc8",
   "metadata": {
    "scrolled": true
   },
   "outputs": [],
   "source": [
    "X_train.head()"
   ]
  },
  {
   "cell_type": "markdown",
   "id": "c8a66e23-ff63-4a54-acfd-6f5ab87e31b4",
   "metadata": {},
   "source": [
    "### Check Multicolinearity"
   ]
  },
  {
   "cell_type": "markdown",
   "id": "69f0848a-5aea-404e-a377-31160eaf617a",
   "metadata": {},
   "source": [
    "Variance Inflation Factor or VIF, gives a basic quantitative idea about how much the feature variables are correlated with each other. It is an extremely important parameter to test our linear model."
   ]
  },
  {
   "cell_type": "code",
   "execution_count": null,
   "id": "1c595649-d0fb-4b30-9945-84cac0c0a427",
   "metadata": {},
   "outputs": [],
   "source": [
    "# Create a dataframe that will contain the names of all the feature variables and their respective VIFs\n",
    "def calculate_vif(X):\n",
    "    vif = pd.DataFrame()\n",
    "    vif['Features'] = X.columns\n",
    "    vif['VIF'] = [variance_inflation_factor(X.values, i) for i in range(X.shape[1])]\n",
    "    vif['VIF'] = round(vif['VIF'], 2)\n",
    "    vif = vif.sort_values(by = \"VIF\", ascending = False)\n",
    "    return vif\n",
    "\n",
    "calculate_vif(X_train)"
   ]
  },
  {
   "cell_type": "markdown",
   "id": "d10e27fb-e91f-4bc1-9242-e13f71352a27",
   "metadata": {},
   "source": [
    "The VIF is too high for columns `temp` and `atemp`."
   ]
  },
  {
   "cell_type": "code",
   "execution_count": null,
   "id": "9bd9297a-c675-4c94-bcd2-e6b9c6468916",
   "metadata": {},
   "outputs": [],
   "source": [
    "# Let's check the correlation coefficients to see which variables are highly correlated\n",
    "\n",
    "plt.figure(figsize = (16, 10))\n",
    "sns.heatmap(X_train.corr(), annot = True, cmap=\"YlGnBu\")\n",
    "plt.show()"
   ]
  },
  {
   "cell_type": "markdown",
   "id": "b86f710f-2e9c-476d-9889-620fb8849177",
   "metadata": {},
   "source": [
    "`temp` and `atemp` are highly correlated, so, we should keep only one of two.\n",
    "There's a high correlation between `winter` and `month` & `temp` and `fall`. But we'll deal with them later."
   ]
  },
  {
   "cell_type": "code",
   "execution_count": null,
   "id": "f5293ed4-1364-4d05-93f1-b60b720934f1",
   "metadata": {},
   "outputs": [],
   "source": [
    "X_train = X_train.drop(columns=['atemp'])\n",
    "calculate_vif(X_train)"
   ]
  },
  {
   "cell_type": "markdown",
   "id": "9db7842a-5baf-45aa-8065-1b6a1fcb06f6",
   "metadata": {},
   "source": [
    "We still have high VIF for mnth So, let's drop mnth."
   ]
  },
  {
   "cell_type": "code",
   "execution_count": null,
   "id": "1536d935-72a7-4718-899b-c704983d7d5a",
   "metadata": {},
   "outputs": [],
   "source": [
    "X_train = X_train.drop(columns=['mnth'])\n",
    "calculate_vif(X_train)"
   ]
  },
  {
   "cell_type": "markdown",
   "id": "ce25c85a-d300-4ca9-b061-d38446d4329b",
   "metadata": {},
   "source": [
    "### Train the model"
   ]
  },
  {
   "cell_type": "code",
   "execution_count": null,
   "id": "f85f6162-dfe5-467c-a8c3-1f37edc5d39c",
   "metadata": {},
   "outputs": [],
   "source": [
    "def buildLinearRegModel(X, Y):\n",
    "    X_sm = sm.add_constant(X)\n",
    "    lr = sm.OLS(Y, X_sm).fit()\n",
    "    return lr"
   ]
  },
  {
   "cell_type": "code",
   "execution_count": null,
   "id": "e3057add-a93a-4984-9ea0-2b072b0a8e05",
   "metadata": {},
   "outputs": [],
   "source": [
    "lr1 = buildLinearRegModel(X_train, y_train)\n",
    "print(lr1.summary())"
   ]
  },
  {
   "cell_type": "markdown",
   "id": "ade39193-801b-4f43-b090-0e50bb735c35",
   "metadata": {},
   "source": [
    "Notice that all the p values are well below the limit of 0.05"
   ]
  },
  {
   "cell_type": "code",
   "execution_count": null,
   "id": "795c2ae8-2d5b-4421-ac7f-9f025ac24708",
   "metadata": {},
   "outputs": [],
   "source": [
    "# Plotting the coefficients\n",
    "\n",
    "coefficients = pd.DataFrame({\n",
    "    'Feature': X_train.columns,\n",
    "    'Coefficient': lr1.params[1:]\n",
    "}).sort_values(by='Coefficient', ascending=False)\n",
    "\n",
    "plt.figure(figsize=(10,6))\n",
    "sns.barplot(x='Coefficient', y='Feature', data=coefficients)\n",
    "plt.title('Feature Importance')\n",
    "plt.show()"
   ]
  },
  {
   "cell_type": "markdown",
   "id": "240e2992-cc41-4e70-8e1f-6034d8fdfe87",
   "metadata": {},
   "source": [
    "## Evaluate the model"
   ]
  },
  {
   "cell_type": "markdown",
   "id": "d2ba088a-0975-4a3f-8f68-f3f3baef07c4",
   "metadata": {},
   "source": [
    "1. Residual analysis of the train data\n",
    "3. Use X_test to predict the `cnt`.\n",
    "4. Check R squared value"
   ]
  },
  {
   "cell_type": "markdown",
   "id": "93d390e8-2935-4895-a358-7dc87dddae6d",
   "metadata": {},
   "source": [
    "### Residual analysis"
   ]
  },
  {
   "cell_type": "markdown",
   "id": "e4cbdd90-9968-4670-a5c7-567ea58341df",
   "metadata": {},
   "source": [
    "So, now to check if the error terms are also normally distributed (which is infact, one of the major assumptions of linear regression), let us plot the histogram of the error terms and see what it looks like."
   ]
  },
  {
   "cell_type": "code",
   "execution_count": null,
   "id": "d6be9a8e-5b1d-4957-89c7-7b96ed1e70aa",
   "metadata": {},
   "outputs": [],
   "source": [
    "X_train_sm = sm.add_constant(X_train)\n",
    "y_train_pred = lr1.predict(X_train_sm)"
   ]
  },
  {
   "cell_type": "code",
   "execution_count": null,
   "id": "b595aee5-2e7f-4b2e-9757-b42ef778130f",
   "metadata": {},
   "outputs": [],
   "source": [
    "# Calculate residuals\n",
    "residuals = y_train - y_train_pred\n",
    "\n",
    "# Compute the mean of the residuals\n",
    "residual_mean = np.mean(residuals)\n",
    "print(f'Mean of Residuals: {residual_mean}')"
   ]
  },
  {
   "cell_type": "code",
   "execution_count": null,
   "id": "00bef8ce-d3c8-4d89-87ec-326612047b31",
   "metadata": {},
   "outputs": [],
   "source": [
    "# Plot the histogram of the error terms\n",
    "fig = plt.figure()\n",
    "sns.histplot((y_train - y_train_pred), bins = 20, kde=True)\n",
    "fig.suptitle('Error Terms', fontsize = 20)                  # Plot heading \n",
    "plt.xlabel('Errors', fontsize = 18)                         # X-label"
   ]
  },
  {
   "cell_type": "code",
   "execution_count": null,
   "id": "e8c5ab61-e179-4beb-b5c8-fcb2e6b11668",
   "metadata": {},
   "outputs": [],
   "source": [
    "# Let's now plot the graph for actual versus predicted values.\n",
    "\n",
    "fig = plt.figure()\n",
    "plt.scatter(y_train, y_train_pred)\n",
    "fig.suptitle('y_train vs y_train_pred', fontsize = 20)              # Plot heading \n",
    "plt.xlabel('y_train', fontsize = 18)                          # X-label\n",
    "plt.ylabel('y_train_pred', fontsize = 16)      "
   ]
  },
  {
   "cell_type": "markdown",
   "id": "10b8c4ce-32b1-4a51-9bff-512e3ee07bb7",
   "metadata": {},
   "source": [
    "Let's plot a graph to check Homoscedasticity (Constant variance of error terms)"
   ]
  },
  {
   "cell_type": "code",
   "execution_count": null,
   "id": "b2995bcd-b404-424b-8261-0d6a0913f166",
   "metadata": {},
   "outputs": [],
   "source": [
    "# Residuals vs. Predicted Plot (Homoscedasticity)\n",
    "plt.scatter(lr1.fittedvalues, lr1.resid)\n",
    "plt.axhline(0, color='red', linestyle='--')\n",
    "plt.title('Residuals vs. Predicted Values')\n",
    "plt.xlabel('Predicted Values')\n",
    "plt.ylabel('Residuals')\n",
    "plt.show()"
   ]
  },
  {
   "cell_type": "markdown",
   "id": "e43b2abc-8db9-4f48-ab9b-eec6db09c15c",
   "metadata": {},
   "source": [
    "**Observations:**  \n",
    "\n",
    "The residuals scatter randomly and evenly around the horizontal axis (y = 0). There is no clear pattern or systematic change in the spread of residuals. This indicates that the variance of residuals is constant across all levels of predicted values."
   ]
  },
  {
   "cell_type": "markdown",
   "id": "8038a71f-25fb-47fe-af34-0730e063f022",
   "metadata": {},
   "source": [
    "### Making Predictions on the test data using the model"
   ]
  },
  {
   "cell_type": "markdown",
   "id": "8c451018-24b6-48df-bcb1-d89a621a3238",
   "metadata": {},
   "source": [
    "Use X_test to predict y_test using the model lr"
   ]
  },
  {
   "cell_type": "code",
   "execution_count": null,
   "id": "50ea8720-b3b2-441e-b044-413710f6b483",
   "metadata": {},
   "outputs": [],
   "source": [
    "print(X_test.shape)\n",
    "print(X_train.shape)"
   ]
  },
  {
   "cell_type": "markdown",
   "id": "10d9afd3-1320-40b1-b5bf-ebe9f79a63df",
   "metadata": {},
   "source": [
    "Drop unnecessary columns from X_test"
   ]
  },
  {
   "cell_type": "code",
   "execution_count": null,
   "id": "1015f764-742d-4366-8c8d-289bdefa3418",
   "metadata": {},
   "outputs": [],
   "source": [
    "X_test.columns"
   ]
  },
  {
   "cell_type": "code",
   "execution_count": null,
   "id": "b9604968-2bfd-476b-ac31-5d65dbb10386",
   "metadata": {},
   "outputs": [],
   "source": [
    "X_train.columns"
   ]
  },
  {
   "cell_type": "code",
   "execution_count": null,
   "id": "d331ef65-7275-40f1-affa-485d3c59f5a3",
   "metadata": {},
   "outputs": [],
   "source": [
    "\n",
    "num_vars = ['yr', 'mnth', 'holiday', 'weekday', 'workingday', 'temp', 'atemp',\n",
    "       'hum', 'windspeed', 'Spring', 'Summer', 'Winter', 'LightRain', 'Mist']\n",
    "X_test[num_vars] = scaler.transform(X_test[num_vars])"
   ]
  },
  {
   "cell_type": "code",
   "execution_count": null,
   "id": "693308c5-ef98-456f-a7e1-29cb796b7f74",
   "metadata": {},
   "outputs": [],
   "source": [
    "X_test.drop(columns=['atemp', 'mnth'], axis=1, inplace=True)"
   ]
  },
  {
   "cell_type": "code",
   "execution_count": null,
   "id": "d013c214-56b0-4567-bfc1-db860743bc27",
   "metadata": {},
   "outputs": [],
   "source": [
    "X_test.head()"
   ]
  },
  {
   "cell_type": "code",
   "execution_count": null,
   "id": "3627c812-4bcc-4000-8172-294e008283cf",
   "metadata": {},
   "outputs": [],
   "source": [
    "X_test.shape"
   ]
  },
  {
   "cell_type": "code",
   "execution_count": null,
   "id": "46fe766f-dc0f-42af-9fe6-0d6116ce4148",
   "metadata": {},
   "outputs": [],
   "source": [
    "# Making predictions using the lr model\n",
    "X_test_sm = sm.add_constant(X_test)\n",
    "y_test_pred = lr1.predict(X_test_sm)"
   ]
  },
  {
   "cell_type": "code",
   "execution_count": null,
   "id": "12040014-a390-4705-ac2c-efaa13e367e1",
   "metadata": {},
   "outputs": [],
   "source": [
    "# Calculate residuals\n",
    "residuals = y_test - y_test_pred\n",
    "\n",
    "# Compute the mean of the residuals\n",
    "residual_mean = np.mean(residuals)\n",
    "print(f'Mean of Residuals: {residual_mean}')"
   ]
  },
  {
   "cell_type": "code",
   "execution_count": null,
   "id": "0c95d2b3-dc92-4ef8-8d1a-51a83372ebb7",
   "metadata": {},
   "outputs": [],
   "source": [
    "# Let's now plot the graph for actual versus predicted values.\n",
    "\n",
    "fig = plt.figure()\n",
    "plt.scatter(y_test, y_test_pred)\n",
    "fig.suptitle('y_test vs y_pred', fontsize = 20)              # Plot heading \n",
    "plt.xlabel('y_test', fontsize = 18)                          # X-label\n",
    "plt.ylabel('y_pred', fontsize = 16)      "
   ]
  },
  {
   "cell_type": "code",
   "execution_count": null,
   "id": "9f1b7d55-022e-4251-a27b-00b15f5d0372",
   "metadata": {
    "scrolled": true
   },
   "outputs": [],
   "source": [
    "# Check the r2 score\n",
    "print('R squared of the test data using the linear regression model is: ', r2_score(y_test, y_test_pred))"
   ]
  },
  {
   "cell_type": "markdown",
   "id": "cd5b171a-11c6-45e3-bd2f-28d7efb49498",
   "metadata": {},
   "source": [
    "## Conclusion"
   ]
  },
  {
   "cell_type": "markdown",
   "id": "e7727682-ed91-410f-aca5-72c4b9a1b28d",
   "metadata": {},
   "source": [
    "We built a linear regression model `lr1` to predict the bike sharing count. This model produced an R squared value of 0.809 for the test data set."
   ]
  },
  {
   "cell_type": "code",
   "execution_count": null,
   "id": "e72ce5ab-f2a6-4eb7-9daa-96d37edd194c",
   "metadata": {},
   "outputs": [],
   "source": [
    "print(lr1.summary())"
   ]
  },
  {
   "cell_type": "markdown",
   "id": "b14be544-831b-47b1-a4c7-bbdb065648e4",
   "metadata": {},
   "source": [
    "We can see that the equation of our best fitted line is:  \n",
    "\n",
    "`cnt = 2015.9015 * yr - 557.7596 * holiday + 422.7937 * weekday + 162.5193 * workingday + 4288.2546 * temp - 1073.4476 * hum - 1564.5809 * windspeed - 644.9492 * Spring + 377.0228 * Summer + 786.0812 * Winter - 2167.2031 * LightRain - 509.4176 * Mist + 2159.4744`"
   ]
  },
  {
   "cell_type": "markdown",
   "id": "0d83defc-2bb1-48e2-bba3-7b9a9b0f8c82",
   "metadata": {},
   "source": [
    "**R-squared of the model: 0.834**  \n",
    "**R-squared of the test data: 0.809**"
   ]
  },
  {
   "cell_type": "code",
   "execution_count": null,
   "id": "c9bfb74f-8253-4aae-80d4-9b390561093c",
   "metadata": {},
   "outputs": [],
   "source": []
  }
 ],
 "metadata": {
  "kernelspec": {
   "display_name": "Python 3 (ipykernel)",
   "language": "python",
   "name": "python3"
  },
  "language_info": {
   "codemirror_mode": {
    "name": "ipython",
    "version": 3
   },
   "file_extension": ".py",
   "mimetype": "text/x-python",
   "name": "python",
   "nbconvert_exporter": "python",
   "pygments_lexer": "ipython3",
   "version": "3.10.5"
  }
 },
 "nbformat": 4,
 "nbformat_minor": 5
}
